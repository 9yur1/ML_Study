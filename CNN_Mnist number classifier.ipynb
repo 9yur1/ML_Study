{
 "cells": [
  {
   "cell_type": "markdown",
   "id": "c3c33533",
   "metadata": {},
   "source": [
    "## 1. 라이브러리 Import"
   ]
  },
  {
   "cell_type": "code",
   "execution_count": 1,
   "id": "40e04ebe",
   "metadata": {},
   "outputs": [],
   "source": [
    "import numpy as np\n",
    "import pandas as pd\n",
    "import matplotlib.pyplot as plt\n",
    "\n",
    "import torch\n",
    "import torch.nn as nn\n",
    "import torch.nn.functional as F\n",
    "from torch.utils.data import Dataset,DataLoader\n",
    "\n",
    "import os"
   ]
  },
  {
   "cell_type": "code",
   "execution_count": 2,
   "id": "3ddf63fb",
   "metadata": {},
   "outputs": [
    {
     "data": {
      "text/plain": [
       "'C:\\\\Users\\\\Park'"
      ]
     },
     "execution_count": 2,
     "metadata": {},
     "output_type": "execute_result"
    }
   ],
   "source": [
    "os.getcwd()"
   ]
  },
  {
   "cell_type": "markdown",
   "id": "c3cd7ed0",
   "metadata": {},
   "source": [
    "## 2 . 경로설정"
   ]
  },
  {
   "cell_type": "code",
   "execution_count": 3,
   "id": "8f207d4b",
   "metadata": {},
   "outputs": [],
   "source": [
    "class PATH:\n",
    "    TRAIN = 'C:\\\\Users\\\\Park\\\\kaggle\\\\input\\\\digit-recognizer\\\\train.csv'\n",
    "    TEST = 'C:\\\\Users\\Park\\\\kaggle\\\\input\\\\digit-recognizer\\\\test.csv'\n",
    "    \n",
    "class CONFIG:\n",
    "    lr = 0.001\n",
    "    epoch = 10\n",
    "    batch_size = 256"
   ]
  },
  {
   "cell_type": "code",
   "execution_count": 4,
   "id": "76ec78c7",
   "metadata": {},
   "outputs": [
    {
     "name": "stdout",
     "output_type": "stream",
     "text": [
      "cpu\n"
     ]
    }
   ],
   "source": [
    "device = 'cuda' if torch.cuda.is_available() else 'cpu'\n",
    "print(device)"
   ]
  },
  {
   "cell_type": "markdown",
   "id": "c181f57d",
   "metadata": {},
   "source": [
    "## 3 . 학습데이터 만들기"
   ]
  },
  {
   "cell_type": "code",
   "execution_count": 5,
   "id": "aa3f09bf",
   "metadata": {},
   "outputs": [],
   "source": [
    "df_train = pd.read_csv(PATH.TRAIN)"
   ]
  },
  {
   "cell_type": "code",
   "execution_count": 6,
   "id": "541c4997",
   "metadata": {},
   "outputs": [],
   "source": [
    "l = len(df_train)"
   ]
  },
  {
   "cell_type": "code",
   "execution_count": 7,
   "id": "c398e9df",
   "metadata": {},
   "outputs": [],
   "source": [
    "_x = torch.Tensor(df_train.iloc[:,1:].values).reshape(l,28,28) / 256 #28*28의 형태로 변환후 0~1 사이의 값으로 변환\n",
    "_x = _x.unsqueeze(1) # (batch_size, depth, width, height)로 형태를 맞추기 위한 코드\n",
    "_y = torch.Tensor(df_train.iloc[:,0].values).type(torch.long)\n",
    "\n",
    "train_x ,valid_x = _x[:39000],_x[39000:] #train,valid 분활\n",
    "train_y ,valid_y = _y[:39000],_y[39000:]"
   ]
  },
  {
   "cell_type": "code",
   "execution_count": 8,
   "id": "c8ccaf0c",
   "metadata": {},
   "outputs": [],
   "source": [
    "class DigitDataset(Dataset):\n",
    "    \n",
    "    def __init__(self,x,y=None):\n",
    "        super(DigitDataset).__init__()\n",
    "        self.x = x\n",
    "        self.y = y\n",
    "        \n",
    "    def __getitem__(self,idx):\n",
    "        if self.y == None:\n",
    "            return self.x[idx]\n",
    "        return self.x[idx],self.y[idx]\n",
    "    \n",
    "    def __len__(self):\n",
    "        return len(self.x)"
   ]
  },
  {
   "cell_type": "code",
   "execution_count": 9,
   "id": "3d598e6c",
   "metadata": {},
   "outputs": [],
   "source": [
    "trainset = DigitDataset(train_x,train_y)\n",
    "validset = DigitDataset(valid_x,valid_y)\n",
    "train_dl = DataLoader(trainset,batch_size = CONFIG.batch_size,shuffle=True)\n",
    "valid_dl = DataLoader(validset,batch_size = CONFIG.batch_size)"
   ]
  },
  {
   "cell_type": "markdown",
   "id": "caaa263d",
   "metadata": {},
   "source": [
    "## 4 . 학습모델 만들기"
   ]
  },
  {
   "cell_type": "code",
   "execution_count": 10,
   "id": "a97756b1",
   "metadata": {},
   "outputs": [],
   "source": [
    "class DigitModel(nn.Module):\n",
    "    \n",
    "    def __init__(self):\n",
    "        super(DigitModel,self).__init__()\n",
    "        \n",
    "        self.model = nn.Sequential(\n",
    "            nn.Conv2d(1,32,3),\n",
    "            nn.Conv2d(32,8,3),\n",
    "            nn.Flatten(),\n",
    "            nn.Linear(24*24*8,256),\n",
    "            nn.ReLU(),\n",
    "            nn.Linear(256,128),\n",
    "            nn.ReLU(),\n",
    "            nn.Linear(128,10)\n",
    "        )\n",
    "        \n",
    "    def forward(self,x):\n",
    "        x = self.model(x)\n",
    "        x = torch.softmax(x,dim=-1)\n",
    "        return x"
   ]
  },
  {
   "cell_type": "code",
   "execution_count": 11,
   "id": "c7943373",
   "metadata": {},
   "outputs": [],
   "source": [
    "model = DigitModel().to(device)"
   ]
  },
  {
   "cell_type": "markdown",
   "id": "53f3f82b",
   "metadata": {},
   "source": [
    "## 5 . 모델 training"
   ]
  },
  {
   "cell_type": "code",
   "execution_count": 12,
   "id": "f69d49d6",
   "metadata": {},
   "outputs": [],
   "source": [
    "lossfn = nn.CrossEntropyLoss()\n",
    "opt = torch.optim.Adam(model.parameters(), lr=CONFIG.lr)"
   ]
  },
  {
   "cell_type": "markdown",
   "id": "efdb65ef",
   "metadata": {},
   "source": [
    "### 한 번의 epoch에 대하여 trainset 전체를 한번 학습하고 validset으로 검증이 이루어지는 코드"
   ]
  },
  {
   "cell_type": "code",
   "execution_count": 13,
   "id": "30a06e94",
   "metadata": {},
   "outputs": [
    {
     "name": "stdout",
     "output_type": "stream",
     "text": [
      "Training on progress... 1/10\n",
      "Epoch 1 : Acc 92.13333333333334\n",
      "Training on progress... 2/10\n",
      "Epoch 2 : Acc 94.0\n",
      "Training on progress... 3/10\n",
      "Epoch 3 : Acc 95.5\n",
      "Training on progress... 4/10\n",
      "Epoch 4 : Acc 95.36666666666666\n",
      "Training on progress... 5/10\n",
      "Epoch 5 : Acc 95.93333333333334\n",
      "Training on progress... 6/10\n",
      "Epoch 6 : Acc 96.5\n",
      "Training on progress... 7/10\n",
      "Epoch 7 : Acc 96.23333333333333\n",
      "Training on progress... 8/10\n",
      "Epoch 8 : Acc 96.33333333333333\n",
      "Training on progress... 9/10\n",
      "Epoch 9 : Acc 96.66666666666667\n",
      "Training on progress... 10/10\n",
      "Epoch 10 : Acc 96.3\n"
     ]
    }
   ],
   "source": [
    "for e in range(CONFIG.epoch):\n",
    "    print(f\"Training on progress... {e+1}/{CONFIG.epoch}\")\n",
    "    acc =0\n",
    "    total =0\n",
    "    \n",
    "    model.train() # train\n",
    "    for x,y in train_dl:\n",
    "        x = x.to(device)\n",
    "        y = y.to(device)\n",
    "        y_hat = model(x)\n",
    "        loss = lossfn(y_hat,y)\n",
    "        \n",
    "        opt.zero_grad()\n",
    "        loss.backward()\n",
    "        opt.step()\n",
    "        \n",
    "    model.eval() #valid\n",
    "    with torch.no_grad():\n",
    "        for vx,vy in valid_dl:\n",
    "            vx = vx.to(device)\n",
    "            vy = vy.to(device)\n",
    "            \n",
    "            vy_hat = model(vx)\n",
    "            pred = vy_hat.max(dim=1)[1]\n",
    "            acc += (pred == vy).sum().item()\n",
    "    print(f\"Epoch {e+1} : Acc {100*acc/3000}\")"
   ]
  },
  {
   "cell_type": "markdown",
   "id": "210cc4c0",
   "metadata": {},
   "source": [
    "## 6 . test data 예측"
   ]
  },
  {
   "cell_type": "code",
   "execution_count": 14,
   "id": "b67fed47",
   "metadata": {},
   "outputs": [],
   "source": [
    "df_test= pd.read_csv(PATH.TEST)\n",
    "l = len(df_test)\n",
    "test_x = torch.Tensor(df_test.values).reshape(l,28,28) / 256\n",
    "test_x = test_x.unsqueeze(1)"
   ]
  },
  {
   "cell_type": "code",
   "execution_count": 15,
   "id": "0d27981a",
   "metadata": {},
   "outputs": [],
   "source": [
    "outputs = model(test_x)\n",
    "_, pred = torch.max(outputs, 1)\n",
    "pred = pred.cpu()"
   ]
  },
  {
   "cell_type": "code",
   "execution_count": 16,
   "id": "8065e55c",
   "metadata": {},
   "outputs": [
    {
     "data": {
      "image/png": "[encoded data removed]",
      "text/plain": [
       "<Figure size 432x288 with 6 Axes>"
      ]
     },
     "metadata": {
      "needs_background": "light"
     },
     "output_type": "display_data"
    }
   ],
   "source": [
    "for i,img in enumerate(test_x[50:56]) :\n",
    "    plt.subplot(2,3,i+1)\n",
    "    plt.axis('off')\n",
    "    plt.title(f\"Predicted : {pred[50+i]}\")\n",
    "    plt.imshow(img.squeeze(0))"
   ]
  },
  {
   "cell_type": "code",
   "execution_count": 17,
   "id": "5541086b",
   "metadata": {},
   "outputs": [],
   "source": [
    "submission = pd.DataFrame({'ImageId': np.arange(1, (pred.size(0) + 1)), 'Label': pred})\n",
    "submission.to_csv(\"submission.csv\", index = False)"
   ]
  },
  {
   "cell_type": "code",
   "execution_count": null,
   "id": "83e7d94e",
   "metadata": {},
   "outputs": [],
   "source": []
  }
 ],
 "metadata": {
  "kernelspec": {
   "display_name": "Python 3",
   "language": "python",
   "name": "python3"
  },
  "language_info": {
   "codemirror_mode": {
    "name": "ipython",
    "version": 3
   },
   "file_extension": ".py",
   "mimetype": "text/x-python",
   "name": "python",
   "nbconvert_exporter": "python",
   "pygments_lexer": "ipython3",
   "version": "3.8.8"
  }
 },
 "nbformat": 4,
 "nbformat_minor": 5
}
